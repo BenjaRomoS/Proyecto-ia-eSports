{
 "cells": [
  {
   "cell_type": "code",
   "execution_count": null,
   "id": "bc2fcd74",
   "metadata": {},
   "outputs": [],
   "source": [
    "# 1. Carga y unión de datos\n",
    "import pandas as pd\n",
    "import os\n",
    "\n",
    "# Definir ruta base\n",
    "base_path = r\"D:\\HP\\Downloads\\Ganancias de los eSports\"\n",
    "\n",
    "# Cargar archivos CSV\n",
    "df_players = pd.read_csv(os.path.join(base_path, \"highest_earning_players.csv\"))\n",
    "df_teams = pd.read_csv(os.path.join(base_path, \"highest_earning_teams.csv\"))\n",
    "df_country_codes = pd.read_csv(os.path.join(base_path, \"country-and-continent-codes-list.csv\"))\n",
    "\n",
    "# Explorar brevemente\n",
    "print(df_players.head())\n",
    "print(df_teams.head())\n",
    "print(df_country_codes.head())\n"
   ]
  }
 ],
 "metadata": {
  "kernelspec": {
   "display_name": "Python 3",
   "language": "python",
   "name": "python3"
  },
  "language_info": {
   "codemirror_mode": {
    "name": "ipython",
    "version": 3
   },
   "file_extension": ".py",
   "mimetype": "text/x-python",
   "name": "python",
   "nbconvert_exporter": "python",
   "pygments_lexer": "ipython3",
   "version": "3.13.5"
  }
 },
 "nbformat": 4,
 "nbformat_minor": 5
}
