{
 "cells": [
  {
   "cell_type": "code",
   "execution_count": null,
   "id": "bc2fcd74",
   "metadata": {},
   "outputs": [],
   "source": [
    "# 1. Carga y unión de datos\n",
    "import pandas as pd\n",
    "import os\n",
    "\n",
    "# Definir ruta base\n",
    "base_path = r\"D:\\HP\\Downloads\\Ganancias de los eSports\"\n",
    "\n",
    "# Cargar archivos CSV\n",
    "df_players = pd.read_csv(os.path.join(base_path, \"highest_earning_players.csv\"))\n",
    "df_teams = pd.read_csv(os.path.join(base_path, \"highest_earning_teams.csv\"))\n",
    "df_country_codes = pd.read_csv(os.path.join(base_path, \"country-and-continent-codes-list.csv\"))\n",
    "\n",
    "# Explorar brevemente\n",
    "print(df_players.head())\n",
    "print(df_teams.head())\n",
    "print(df_country_codes.head())\n"
   ]
  },
  {
   "cell_type": "code",
   "execution_count": null,
   "id": "c8b1d9f7",
   "metadata": {},
   "outputs": [],
   "source": [
    "# 2. Análisis Exploratorio de Datos (EDA)\n",
    "\n",
    "# Información general y tipos de datos\n",
    "print(df_players.info())\n",
    "\n",
    "# Estadísticas descriptivas de variables numéricas\n",
    "print(df_players.describe())\n",
    "\n",
    "# Revisión de valores faltantes\n",
    "print(df_players.isnull().sum())\n",
    "\n",
    "import matplotlib.pyplot as plt\n",
    "import seaborn as sns\n",
    "\n",
    "# Distribución de la variable objetivo\n",
    "sns.histplot(df_players['TotalUSDPrize'], bins=50, kde=True)\n",
    "plt.title(\"Distribución de Ganancias Totales\")\n",
    "plt.xlabel(\"Ganancias Totales (USD)\")\n",
    "plt.ylabel(\"Frecuencia\")\n",
    "plt.show()\n",
    "\n",
    "# Análisis de variables categóricas: actualizar nombres de columnas según tu dataset\n",
    "categorical_cols = ['Game', 'Genre', 'CountryCode']\n",
    "\n",
    "for col in categorical_cols:\n",
    "    print(f\"Valores únicos en {col}: {df_players[col].nunique()}\")\n",
    "    plt.figure(figsize=(8,6))\n",
    "    sns.countplot(y=df_players[col], order=df_players[col].value_counts().index)\n",
    "    plt.title(f\"Distribución de {col}\")\n",
    "    plt.xlabel(\"Cantidad de jugadores\")\n",
    "    plt.ylabel(col)\n",
    "    plt.show()\n"
   ]
  },
  {
   "cell_type": "code",
   "execution_count": null,
   "id": "7eb5c852",
   "metadata": {},
   "outputs": [],
   "source": [
    "#3. Feature Engineering y Selección\n",
    "\n",
    "# Selección de las características (features) y la variable objetivo (target)\n",
    "features = ['Game', 'Genre', 'CountryCode']\n",
    "target = 'TotalUSDPrize'\n",
    "\n",
    "# Aplicar One-Hot Encoding a las variables categóricas.\n",
    "# Esto convierte las categorías en columnas numéricas (0s y 1s) que el modelo puede procesar.\n",
    "# 'drop_first=True' se utiliza para evitar la multicolinealidad, eliminando una categoría por cada característica.\n",
    "df_encoded = pd.get_dummies(df_players[features], drop_first=True)\n",
    "\n",
    "# Combinar las nuevas características codificadas con la variable objetivo.\n",
    "# Ahora df_model contiene todos los datos listos para el entrenamiento.\n",
    "df_model = pd.concat([df_encoded, df_players[target]], axis=1)\n",
    "\n",
    "# Visualizar las primeras filas del nuevo DataFrame para verificar el resultado.\n",
    "print(\"DataFrame listo para el modelo:\")\n",
    "print(df_model.head())"
   ]
  },
  {
   "cell_type": "code",
   "execution_count": null,
   "id": "69d51b59",
   "metadata": {},
   "outputs": [],
   "source": [
    "# 4. División de datos\n",
    "from sklearn.model_selection import train_test_split\n",
    "\n",
    "# Separar las características (X) de la variable objetivo (y)\n",
    "# 'X' contendrá todas las columnas de df_model excepto la de ganancias\n",
    "X = df_model.drop(columns=[target])\n",
    "\n",
    "# 'y' contendrá únicamente la columna de ganancias totales\n",
    "y = df_model[target]\n",
    "\n",
    "# Dividir los datos: 80% para entrenar el modelo y 20% para probarlo\n",
    "# random_state=42 asegura que la división sea siempre la misma, haciendo tu experimento reproducible.\n",
    "X_train, X_test, y_train, y_test = train_test_split(X, y, test_size=0.2, random_state=42)\n",
    "\n",
    "print(f\"Tamaño del conjunto de entrenamiento: {X_train.shape[0]} registros\")\n",
    "print(f\"Tamaño del conjunto de prueba: {X_test.shape[0]} registros\")\n",
    "# 5. Entrenamiento del modelo\n"
   ]
  }
 ],
 "metadata": {
  "kernelspec": {
   "display_name": "Python 3",
   "language": "python",
   "name": "python3"
  },
  "language_info": {
   "codemirror_mode": {
    "name": "ipython",
    "version": 3
   },
   "file_extension": ".py",
   "mimetype": "text/x-python",
   "name": "python",
   "nbconvert_exporter": "python",
   "pygments_lexer": "ipython3",
   "version": "3.13.5"
  }
 },
 "nbformat": 4,
 "nbformat_minor": 5
}
