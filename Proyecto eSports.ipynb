{
 "cells": [
  {
   "cell_type": "code",
   "execution_count": null,
   "id": "bc2fcd74",
   "metadata": {},
   "outputs": [],
   "source": [
    "# 1. Carga y unión de datos\n",
    "import pandas as pd\n",
    "import os\n",
    "\n",
    "# Definir ruta base\n",
    "base_path = r\"D:\\HP\\Downloads\\Ganancias de los eSports\"\n",
    "\n",
    "# Cargar archivos CSV\n",
    "df_players = pd.read_csv(os.path.join(base_path, \"highest_earning_players.csv\"))\n",
    "df_teams = pd.read_csv(os.path.join(base_path, \"highest_earning_teams.csv\"))\n",
    "df_country_codes = pd.read_csv(os.path.join(base_path, \"country-and-continent-codes-list.csv\"))\n",
    "\n",
    "# Explorar brevemente\n",
    "print(df_players.head())\n",
    "print(df_teams.head())\n",
    "print(df_country_codes.head())\n"
   ]
  },
  {
   "cell_type": "code",
   "execution_count": 1,
   "id": "87968ae6",
   "metadata": {},
   "outputs": [
    {
     "ename": "NameError",
     "evalue": "name 'df_players' is not defined",
     "output_type": "error",
     "traceback": [
      "\u001b[31m---------------------------------------------------------------------------\u001b[39m",
      "\u001b[31mNameError\u001b[39m                                 Traceback (most recent call last)",
      "\u001b[36mCell\u001b[39m\u001b[36m \u001b[39m\u001b[32mIn[1]\u001b[39m\u001b[32m, line 4\u001b[39m\n\u001b[32m      1\u001b[39m \u001b[38;5;66;03m# 2. Análisis Exploratorio de Datos (EDA)\u001b[39;00m\n\u001b[32m      2\u001b[39m \n\u001b[32m      3\u001b[39m \u001b[38;5;66;03m# Información general y tipos de datos\u001b[39;00m\n\u001b[32m----> \u001b[39m\u001b[32m4\u001b[39m \u001b[38;5;28mprint\u001b[39m(\u001b[43mdf_players\u001b[49m.info())\n\u001b[32m      6\u001b[39m \u001b[38;5;66;03m# Estadísticas descriptivas de variables numéricas\u001b[39;00m\n\u001b[32m      7\u001b[39m \u001b[38;5;28mprint\u001b[39m(df_players.describe())\n",
      "\u001b[31mNameError\u001b[39m: name 'df_players' is not defined"
     ]
    }
   ],
   "source": [
    "# 2. Análisis Exploratorio de Datos (EDA)\n",
    "\n",
    "# Información general y tipos de datos\n",
    "print(df_players.info())\n",
    "\n",
    "# Estadísticas descriptivas de variables numéricas\n",
    "print(df_players.describe())\n",
    "\n",
    "# Revisión de valores faltantes\n",
    "print(df_players.isnull().sum())\n",
    "\n",
    "import matplotlib.pyplot as plt\n",
    "import seaborn as sns\n",
    "\n",
    "# Distribución de la variable objetivo\n",
    "sns.histplot(df_players['TotalUSDPrize'], bins=50, kde=True)\n",
    "plt.title(\"Distribución de Ganancias Totales\")\n",
    "plt.xlabel(\"Ganancias Totales (USD)\")\n",
    "plt.ylabel(\"Frecuencia\")\n",
    "plt.show()\n",
    "\n",
    "# Análisis de variables categóricas: actualizar nombres de columnas según tu dataset\n",
    "categorical_cols = ['Game', 'Genre', 'CountryCode']\n",
    "\n",
    "for col in categorical_cols:\n",
    "    print(f\"Valores únicos en {col}: {df_players[col].nunique()}\")\n",
    "    plt.figure(figsize=(8,6))\n",
    "    sns.countplot(y=df_players[col], order=df_players[col].value_counts().index)\n",
    "    plt.title(f\"Distribución de {col}\")\n",
    "    plt.xlabel(\"Cantidad de jugadores\")\n",
    "    plt.ylabel(col)\n",
    "    plt.show()\n"
   ]
  },
  {
   "cell_type": "code",
   "execution_count": null,
   "id": "c8b1d9f7",
   "metadata": {},
   "outputs": [],
   "source": []
  }
 ],
 "metadata": {
  "kernelspec": {
   "display_name": "base",
   "language": "python",
   "name": "python3"
  },
  "language_info": {
   "codemirror_mode": {
    "name": "ipython",
    "version": 3
   },
   "file_extension": ".py",
   "mimetype": "text/x-python",
   "name": "python",
   "nbconvert_exporter": "python",
   "pygments_lexer": "ipython3",
   "version": "3.13.5"
  }
 },
 "nbformat": 4,
 "nbformat_minor": 5
}
